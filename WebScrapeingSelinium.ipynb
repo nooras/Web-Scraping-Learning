{
 "cells": [
  {
   "cell_type": "code",
   "execution_count": 1,
   "metadata": {},
   "outputs": [],
   "source": [
    "#import Libraries\n",
    "from selenium import webdriver \n",
    "from selenium.webdriver.chrome.options import Options\n",
    "from selenium.webdriver import Chrome\n",
    "import pandas as pd\n",
    "import time"
   ]
  },
  {
   "cell_type": "code",
   "execution_count": 3,
   "metadata": {},
   "outputs": [],
   "source": [
    "#Use Incognito mode when scraping\n",
    "\n",
    "chrome_options = Options()\n",
    "chrome_options.add_argument(\" — incognito\")\n",
    "browser = webdriver.Chrome(options=chrome_options)\n",
    "# pages=int(input('How Many Pages Do You Want to Scrape? '))"
   ]
  },
  {
   "cell_type": "code",
   "execution_count": 4,
   "metadata": {},
   "outputs": [],
   "source": [
    "#define number of pages to scrape and starting URL (usually page 1)\n",
    "pages=3\n",
    "url='http://books.toscrape.com/catalogue/page-1.html'"
   ]
  },
  {
   "cell_type": "code",
   "execution_count": 5,
   "metadata": {},
   "outputs": [
    {
     "name": "stdout",
     "output_type": "stream",
     "text": [
      "                                                Title   Price     Stock Star\n",
      "1                                A Light in the Attic  £51.77  In stock    3\n",
      "2                                  Tipping the Velvet  £53.74  In stock    1\n",
      "3                                          Soumission  £50.10  In stock    1\n",
      "4                                       Sharp Objects  £47.82  In stock    4\n",
      "5               Sapiens: A Brief History of Humankind  £54.23  In stock    5\n",
      "6                                     The Requiem Red  £22.65  In stock    1\n",
      "7   The Dirty Little Secrets of Getting Your Dream...  £33.34  In stock    4\n",
      "8   The Coming Woman: A Novel Based on the Life of...  £17.93  In stock    3\n",
      "9   The Boys in the Boat: Nine Americans and Their...  £22.60  In stock    4\n",
      "10                                    The Black Maria  £52.15  In stock    1\n",
      "11     Starving Hearts (Triangular Trade Trilogy, #1)  £13.99  In stock    2\n",
      "12                              Shakespeare's Sonnets  £20.66  In stock    4\n",
      "13                                        Set Me Free  £17.46  In stock    5\n",
      "14  Scott Pilgrim's Precious Little Life (Scott Pi...  £52.29  In stock    5\n",
      "15                          Rip it Up and Start Again  £35.02  In stock    5\n",
      "16  Our Band Could Be Your Life: Scenes from the A...  £57.25  In stock    3\n",
      "17                                               Olio  £23.88  In stock    1\n",
      "18  Mesaerion: The Best Science Fiction Stories 18...  £37.59  In stock    1\n",
      "19                       Libertarianism for Beginners  £51.33  In stock    2\n",
      "20                            It's Only the Himalayas  £45.17  In stock    2\n",
      "21                                        In Her Wake  £12.84  In stock    1\n",
      "22                                    How Music Works  £37.32  In stock    2\n",
      "23  Foolproof Preserving: A Guide to Small Batch J...  £30.52  In stock    3\n",
      "24                         Chase Me (Paris Nights #2)  £25.27  In stock    5\n",
      "25                                         Black Dust  £34.53  In stock    5\n",
      "26                      Birdsong: A Story in Pictures  £54.64  In stock    3\n",
      "27  America's Cradle of Quarterbacks: Western Penn...  £22.50  In stock    3\n",
      "28                     Aladdin and His Wonderful Lamp  £53.13  In stock    3\n",
      "29  Worlds Elsewhere: Journeys Around Shakespeare’...  £40.30  In stock    5\n",
      "30                                     Wall and Piece  £44.18  In stock    4\n",
      "31  The Four Agreements: A Practical Guide to Pers...  £17.66  In stock    5\n",
      "32  The Five Love Languages: How to Express Heartf...  £31.05  In stock    3\n",
      "33                                  The Elephant Tree  £23.82  In stock    5\n",
      "34                             The Bear and the Piano  £36.89  In stock    1\n",
      "35                                     Sophie's World  £15.94  In stock    5\n",
      "36                                        Penny Maybe  £33.29  In stock    3\n",
      "37     Maude (1883-1993):She Grew Up with the country  £18.02  In stock    2\n",
      "38                               In a Dark, Dark Wood  £19.63  In stock    1\n",
      "39                                Behind Closed Doors  £52.22  In stock    4\n",
      "40                     You can't bury them all: Poems  £33.63  In stock    2\n",
      "41                     Slow States of Collapse: Poems  £57.31  In stock    3\n",
      "42                              Reasons to Stay Alive  £26.41  In stock    2\n",
      "43                        Private Paris (Private #10)  £47.61  In stock    5\n",
      "44  #HigherSelfie: Wake Up Your Life. Free Your So...  £23.11  In stock    5\n",
      "45                    Without Borders (Wanderlove #1)  £45.07  In stock    2\n",
      "46                                   When We Collided  £31.77  In stock    1\n",
      "47                       We Love You, Charlie Freeman  £50.27  In stock    5\n",
      "48            Untitled Collection: Sabbath Poems 2014  £14.27  In stock    4\n",
      "49  Unseen City: The Majesty of Pigeons, the Discr...  £44.18  In stock    4\n",
      "50                                     Unicorn Tracks  £18.78  In stock    3\n",
      "51  Unbound: How Eight Technologies Made Us Human,...  £25.52  In stock    1\n",
      "52  Tsubasa: WoRLD CHRoNiCLE 2 (Tsubasa WoRLD CHRo...  £16.28  In stock    1\n",
      "53  Throwing Rocks at the Google Bus: How Growth B...  £31.12  In stock    3\n",
      "54                                    This One Summer  £19.49  In stock    4\n",
      "55                                             Thirst  £17.27  In stock    5\n",
      "56        The Torch Is Passed: A Harding Family Story  £19.09  In stock    1\n",
      "57                    The Secret of Dreadwillow Carse  £56.13  In stock    1\n",
      "58  The Pioneer Woman Cooks: Dinnertime: Comfort C...  £56.41  In stock    1\n",
      "59                                The Past Never Ends  £56.50  In stock    4\n",
      "60  The Natural History of Us (The Fine Art of Pre...  £45.22  In stock    3\n"
     ]
    }
   ],
   "source": [
    "#Create Function to scrape webpage\n",
    "\n",
    "def getdata(start_url,pgs):\n",
    "    current=0\n",
    "    urls=browser.get(start_url)\n",
    "    data={}\n",
    "    df=pd.DataFrame(columns=['Title','Price','Stock','Star'])\n",
    "    dictionary = {'One':1, 'Two':2, 'Three':3, 'Four':4, 'Five':5}\n",
    "    while current<pages:\n",
    "        books = browser.find_elements_by_css_selector('ol.row')\n",
    "        for book in books:\n",
    "            for b in book.find_elements_by_css_selector('article.product_pod'):\n",
    "                data['Title'] = b.find_elements_by_css_selector('img')[0].get_attribute('alt')\n",
    "                data['Price'] = b.find_elements_by_css_selector('div.product_price p.price_color')[0].text\n",
    "                data['Stock'] = b.find_elements_by_css_selector('div.product_price p.instock.availability')[0].text\n",
    "                data['Star'] = b.find_elements_by_css_selector('p')[0].get_attribute('class').split()[-1]\n",
    "                data['Star'] = [v for k,v in dictionary.items() if k in data['Star']][0]\n",
    "                df=df.append(data, ignore_index=True)\n",
    "        next = browser.find_elements_by_css_selector('li.next a')[0].click()\n",
    "        current+=1\n",
    "        df.index += 1 #Increments the index from 0 to 1\n",
    "    return df\n",
    "output=getdata(url,pages) \n",
    "output.to_excel('test.xlsx')\n",
    "print(output)"
   ]
  },
  {
   "cell_type": "code",
   "execution_count": null,
   "metadata": {},
   "outputs": [],
   "source": []
  }
 ],
 "metadata": {
  "kernelspec": {
   "display_name": "Python 3",
   "language": "python",
   "name": "python3"
  },
  "language_info": {
   "codemirror_mode": {
    "name": "ipython",
    "version": 3
   },
   "file_extension": ".py",
   "mimetype": "text/x-python",
   "name": "python",
   "nbconvert_exporter": "python",
   "pygments_lexer": "ipython3",
   "version": "3.6.6"
  }
 },
 "nbformat": 4,
 "nbformat_minor": 2
}
